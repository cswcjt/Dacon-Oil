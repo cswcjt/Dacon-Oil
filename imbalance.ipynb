{
  "cells": [
    {
      "cell_type": "markdown",
      "metadata": {
        "id": "view-in-github",
        "colab_type": "text"
      },
      "source": [
        "<a href=\"https://colab.research.google.com/github/cswcjt/Dacon-Oil/blob/main/imbalance.ipynb\" target=\"_parent\"><img src=\"https://colab.research.google.com/assets/colab-badge.svg\" alt=\"Open In Colab\"/></a>"
      ]
    },
    {
      "cell_type": "markdown",
      "metadata": {
        "id": "6dfdSiMbCj1G"
      },
      "source": [
        "-- Imbalanced data problem: 비대칭 데이터 문제\n",
        "\n",
        "    - 데이터 클래스 비율이 너무 차이가 나면(highly-imbalanced data) 단순히 우세한 클래스를 택하는 모형의 정확도가 높아지므로 모형의 성능판별이 어려워진다. 즉, 정확도(accuracy)가 높아도 데이터 갯수가 적은 클래스의 재현율(recall-rate)이 급격히 작아지는 현상이 발생할 수 있다.\n",
        "\n",
        "-- Imbalanced-Learn methodology: 해결 방법 \n",
        "\n",
        "    - 비대칭 데이터는 다수 클래스 데이터에서 일부만 사용하는 언더 샘플링이나 소수 클래스 데이터를 증가시키는 오버 샘플링을 사용하여 데이터 비율을 맞추면 정밀도(precision)가 향상된다. \n",
        "\n",
        "    - 오버샘플링(Over-Sampling)\n",
        "\n",
        "    - 언더샘플링(Under-Sampling)\n",
        "\n",
        "    - 복합샘플링(Combining Over-and Under-Sampling)\n",
        "\n",
        "-- under sampling \n",
        "\n",
        "    - RandomUnderSampler: 무작위로 데이터를 없애는 단순 샘플링\n",
        "\n",
        "    - TomekLinks: \n",
        "        - 1) 토멕링크(Tomek’s link)란 서로 다른 클래스에 속하는 한 쌍의 데이터 (𝑥+,𝑥−)로 서로에게 더 가까운 다른 데이터가 존재하지 않는 것이다. \n",
        "        - 2) 토멕링크를 찾은 다음 그 중에서 다수 클래스에 속하는 데이터를 제외하는 방법\n",
        "\n",
        "    - CondensedNearestNeighbour(CNN): \n",
        "        - CNN(Condensed Nearest Neighbour) 방법은 1-NN 모형으로 분류되지 않는 데이터만 남기는 방법이다. 선텍된 데이터 집합을 𝑆라고 하자.\n",
        "        - 1) 소수 클래스 데이터를 모두 𝑆에 포함시킨다.\n",
        "        - 2) 다수 데이터 중에서 하나를 골라서 가장 가까운 데이터가 다수 클래스이면 포함시키지 않고 아니면 𝑆에 포함시킨다.\n",
        "        - 3) 더이상 선택되는 데이터가 없을 때까지 3를 반복한다.\n",
        "\n",
        "    - OneSidedSelection: \n",
        "        - TomekLinks + CNN \n",
        "\n",
        "    - EditedNearestNeighbours(ENN): \n",
        "        - 다수 클래스 데이터 중 가장 가까운 k(n_neighbors)개의 데이터가 모두(kind_sel=\"all\") 또는 다수(kind_sel=\"mode\") 다수 클래스가 아니면 삭제하는 방법이다. 소수 클래스 주변의 다수 클래스 데이터는 사라진다.\n",
        "\n",
        "    - NeighbourhoodCleaningRule: \n",
        "        -  CNN + ENN\n",
        "\n",
        "    \n",
        "-- over sampling\n",
        "\n",
        "    - RandomOverSampler\n",
        "        - Random Over Sampling은 소수 클래스의 데이터를 반복해서 넣는 것(replacement)이다. 가중치를 증가시키는 것과 비슷하다. \n",
        "\n",
        "    - ADASYN(Adaptive Synthetic Sampling Approach for Imbalanced Learning)\n",
        "        - 소수 클래스 데이터와 그 데이터에서 가장 가까운 k개의 소수 클래스 데이터 중 무작위로 선택된 데이터 사이의 직선상에 가상의 소수 클래스 데이터를 만드는 방법이다.\n",
        "\n",
        "    - SMOTE(Synthetic Minority Over-sampling Technique)\n",
        "        - ADASYN 방법처럼 데이터를 생성하지만 생성된 데이터를 무조건 소수 클래스라고 하지 않고 분류 모형에 따라 분류한다.\n",
        "\n",
        "-- 복합 샘플링\n",
        "\n",
        "    - SMOTE+ENN\n",
        "        - SMOTE+ENN 방법은 SMOTE(Synthetic Minority Over-sampling Technique) 방법과 ENN(Edited Nearest Neighbours) 방법을 섞은 것이다. \n",
        "    - SMOTE+Tomek\n",
        "        - SMOTE+Tomek 방법은 SMOTE(Synthetic Minority Over-sampling Technique) 방법과 토멕링크 방법을 섞은 것이다.\n",
        "\n",
        "-- 주의 사항\n",
        "\n",
        "    - train & test datasets의 포퍼먼스를 주시해야한다. \n",
        "        - to gain insight into the impact of the method, it is a good idea to monitor the performance on both train and test datasets after oversampling and compare the results to the same algorithm on the original dataset.\n",
        "\n",
        "    - 클래스의 분포의 skewness가 높은지 확인이 필요하다. \n",
        "        - The increase in the number of examples for the minority class, especially if the class skew was severe, can also result in a marked increase in the computational cost when fitting the model, especially considering the model is seeing the same examples in the training dataset again and again.\n",
        "\n",
        "    - Pipeline 사용시\n",
        "        - A traditional scikit-learn Pipeline cannot be used; instead, a Pipeline from the imbalanced-learn library can be used\n",
        "\n",
        "-- 왜도와 첨도\n",
        "\n",
        "    - 왜도 (Skewness) : 분포의 비대칭도\n",
        "        - 정규분포 = 왜도 0\n",
        "        - 왼쪽으로 치우침 = 왜도 > 0\n",
        "        - 오른쪽으로 치우침 = 왜도 < 0\n",
        "    - 첨도 (Kurtosis) : 확률분포의 뾰족한 정도\n",
        "        - 정규분포 = 첨도 0(Pearson 첨도 = 3)\n",
        "        - 위로 뾰족함 = 첨도 > 0(Pearson 첨도 >3)\n",
        "        - 아래로 뾰족함 = 첨도 < 0 (Pearson 첨도 < 3) \n",
        "\n",
        "\n",
        " "
      ]
    },
    {
      "cell_type": "markdown",
      "metadata": {
        "id": "zoXTSTgPaAT0"
      },
      "source": [
        "Preprocessing에 들어갈 imbalance 함수 만들자"
      ]
    },
    {
      "cell_type": "code",
      "source": [
        "import time\n",
        "from tqdm import tqdm"
      ],
      "metadata": {
        "id": "rBx6g5Yuu4dU"
      },
      "execution_count": 1,
      "outputs": []
    },
    {
      "cell_type": "code",
      "execution_count": 2,
      "metadata": {
        "id": "BqbfP2__E0Ne"
      },
      "outputs": [],
      "source": [
        "import numpy as np\n",
        "import pandas as pd\n",
        "import matplotlib.pyplot as plt\n",
        "import seaborn as sns\n",
        "from collections import Counter # 샘플결과 확인\n",
        "from sklearn.model_selection import train_test_split # 트테트테\n",
        "from sklearn.decomposition import PCA # 차원축소\n",
        "from sklearn.ensemble import RandomForestClassifier # 모델선택\n",
        "from sklearn.metrics import f1_score # 성과지표\n",
        "from sklearn.metrics import classification_report # 성과지표\n",
        "from imblearn.under_sampling import * # 임벨런스\n",
        "from imblearn.over_sampling import * # 임벨런스\n",
        "from imblearn.combine import * # 임벨런스\n",
        "from imblearn.pipeline import Pipeline # 파이프라인구축"
      ]
    },
    {
      "cell_type": "code",
      "source": [
        "# classification models\n",
        "from sklearn.linear_model import LogisticRegression\n",
        "from sklearn.ensemble import RandomForestClassifier, VotingClassifier, StackingClassifier, HistGradientBoostingClassifier\n",
        "from sklearn.svm import SVC\n",
        "from sklearn.tree import DecisionTreeClassifier\n",
        "from lightgbm.sklearn import LGBMClassifier\n",
        "from xgboost.sklearn import XGBClassifier\n",
        "\n",
        "# classification metrics\n",
        "from sklearn.metrics import confusion_matrix, plot_roc_curve, f1_score\n",
        "\n",
        "# regression models\n",
        "from sklearn.linear_model import LinearRegression\n",
        "from sklearn.ensemble import RandomForestRegressor, VotingRegressor, StackingRegressor, HistGradientBoostingRegressor\n",
        "from sklearn.tree import DecisionTreeRegressor\n",
        "from lightgbm.sklearn import LGBMRegressor\n",
        "from xgboost.sklearn import XGBRegressor\n",
        "\n",
        "# regression metrics\n",
        "from sklearn.metrics import mean_absolute_error, r2_score"
      ],
      "metadata": {
        "id": "8B6gPvXxOPnY"
      },
      "execution_count": 3,
      "outputs": []
    },
    {
      "cell_type": "code",
      "source": [
        "from google.colab import drive\n",
        "drive.mount('/content/drive')\n",
        "base_path = \"/content/drive/MyDrive/fastcamp/datas/open/\"\n",
        "train = pd.read_csv(base_path + \"train.csv\", encoding='cp949')\n",
        "test = pd.read_csv(base_path + \"test.csv\", encoding='cp949')\n",
        "submission = pd.read_csv(base_path + \"sample_submission.csv\", encoding='cp949')"
      ],
      "metadata": {
        "colab": {
          "base_uri": "https://localhost:8080/"
        },
        "id": "wqkh7X4HlCpF",
        "outputId": "cfc85dfe-20d9-4330-a8ee-86494a230f80"
      },
      "execution_count": 4,
      "outputs": [
        {
          "output_type": "stream",
          "name": "stdout",
          "text": [
            "Drive already mounted at /content/drive; to attempt to forcibly remount, call drive.mount(\"/content/drive\", force_remount=True).\n"
          ]
        }
      ]
    },
    {
      "cell_type": "code",
      "source": [
        "train = train.fillna(0)\n",
        "train.COMPONENT_ARBITRARY = train.COMPONENT_ARBITRARY.map({\"COMPONENT1\" : 1, \"COMPONENT2\" : 2, \"COMPONENT3\" : 3, \"COMPONENT4\" : 4})\n",
        "X = train.drop(columns=[\"ID\", \"Y_LABEL\"], inplace=False)\n",
        "y = train[\"Y_LABEL\"]"
      ],
      "metadata": {
        "id": "eZY5dwRb_Oip"
      },
      "execution_count": 5,
      "outputs": []
    },
    {
      "cell_type": "code",
      "source": [
        "train"
      ],
      "metadata": {
        "colab": {
          "base_uri": "https://localhost:8080/",
          "height": 488
        },
        "id": "OeB-kanWzfNM",
        "outputId": "e8d3e4ce-ee36-4272-bd21-2d6dbb7dfd6c"
      },
      "execution_count": 6,
      "outputs": [
        {
          "output_type": "execute_result",
          "data": {
            "text/plain": [
              "                ID  COMPONENT_ARBITRARY  ANONYMOUS_1  YEAR  \\\n",
              "0      TRAIN_00000                    3         1486  2011   \n",
              "1      TRAIN_00001                    2         1350  2021   \n",
              "2      TRAIN_00002                    2         2415  2015   \n",
              "3      TRAIN_00003                    3         7389  2010   \n",
              "4      TRAIN_00004                    3         3954  2015   \n",
              "...            ...                  ...          ...   ...   \n",
              "14090  TRAIN_14090                    3         1616  2014   \n",
              "14091  TRAIN_14091                    1         2784  2013   \n",
              "14092  TRAIN_14092                    3         1788  2008   \n",
              "14093  TRAIN_14093                    2         2498  2009   \n",
              "14094  TRAIN_14094                    2         1902  2012   \n",
              "\n",
              "       SAMPLE_TRANSFER_DAY  ANONYMOUS_2  AG   AL    B  BA  ...     U25  \\\n",
              "0                        7          200   0    3   93   0  ...     0.0   \n",
              "1                       51          375   0    2   19   0  ...     2.0   \n",
              "2                        2          200   0  110    1   1  ...     0.0   \n",
              "3                        2          200   0    8    3   0  ...     0.0   \n",
              "4                        4          200   0    1  157   0  ...     0.0   \n",
              "...                    ...          ...  ..  ...  ...  ..  ...     ...   \n",
              "14090                    8          200   0    2  201   1  ...     0.0   \n",
              "14091                    2          200   0    3   85   0  ...     0.0   \n",
              "14092                    9          550   0    6    0   1  ...     0.0   \n",
              "14093                   19          550   0    2    4   0  ...     7.0   \n",
              "14094                   15          200   0    0   77   0  ...  1163.0   \n",
              "\n",
              "          U20      U14        U6        U4  V  V100    V40    ZN  Y_LABEL  \n",
              "0         0.0      0.0       0.0       0.0  0   0.0  154.0    75        0  \n",
              "1         4.0      6.0     216.0    1454.0  0   0.0   44.0   652        0  \n",
              "2         3.0     39.0   11261.0   41081.0  0   0.0   72.6   412        1  \n",
              "3         0.0      0.0       0.0       0.0  0   0.0  133.3     7        0  \n",
              "4         0.0      0.0       0.0       0.0  0   0.0  133.1   128        0  \n",
              "...       ...      ...       ...       ... ..   ...    ...   ...      ...  \n",
              "14090     0.0      0.0       0.0       0.0  0   0.0  135.4    16        0  \n",
              "14091     0.0      0.0       0.0       0.0  0  14.5  117.5  1408        0  \n",
              "14092     0.0      0.0       0.0       0.0  0   0.0   54.0  1301        0  \n",
              "14093     8.0    100.0    1625.0   18890.0  0   0.0   44.3   652        0  \n",
              "14094  2565.0  11296.0  181016.0  325823.0  0   0.0   47.0   612        0  \n",
              "\n",
              "[14095 rows x 54 columns]"
            ],
            "text/html": [
              "\n",
              "  <div id=\"df-72ddf2d3-388d-411e-b0b2-35e9b43dee9c\">\n",
              "    <div class=\"colab-df-container\">\n",
              "      <div>\n",
              "<style scoped>\n",
              "    .dataframe tbody tr th:only-of-type {\n",
              "        vertical-align: middle;\n",
              "    }\n",
              "\n",
              "    .dataframe tbody tr th {\n",
              "        vertical-align: top;\n",
              "    }\n",
              "\n",
              "    .dataframe thead th {\n",
              "        text-align: right;\n",
              "    }\n",
              "</style>\n",
              "<table border=\"1\" class=\"dataframe\">\n",
              "  <thead>\n",
              "    <tr style=\"text-align: right;\">\n",
              "      <th></th>\n",
              "      <th>ID</th>\n",
              "      <th>COMPONENT_ARBITRARY</th>\n",
              "      <th>ANONYMOUS_1</th>\n",
              "      <th>YEAR</th>\n",
              "      <th>SAMPLE_TRANSFER_DAY</th>\n",
              "      <th>ANONYMOUS_2</th>\n",
              "      <th>AG</th>\n",
              "      <th>AL</th>\n",
              "      <th>B</th>\n",
              "      <th>BA</th>\n",
              "      <th>...</th>\n",
              "      <th>U25</th>\n",
              "      <th>U20</th>\n",
              "      <th>U14</th>\n",
              "      <th>U6</th>\n",
              "      <th>U4</th>\n",
              "      <th>V</th>\n",
              "      <th>V100</th>\n",
              "      <th>V40</th>\n",
              "      <th>ZN</th>\n",
              "      <th>Y_LABEL</th>\n",
              "    </tr>\n",
              "  </thead>\n",
              "  <tbody>\n",
              "    <tr>\n",
              "      <th>0</th>\n",
              "      <td>TRAIN_00000</td>\n",
              "      <td>3</td>\n",
              "      <td>1486</td>\n",
              "      <td>2011</td>\n",
              "      <td>7</td>\n",
              "      <td>200</td>\n",
              "      <td>0</td>\n",
              "      <td>3</td>\n",
              "      <td>93</td>\n",
              "      <td>0</td>\n",
              "      <td>...</td>\n",
              "      <td>0.0</td>\n",
              "      <td>0.0</td>\n",
              "      <td>0.0</td>\n",
              "      <td>0.0</td>\n",
              "      <td>0.0</td>\n",
              "      <td>0</td>\n",
              "      <td>0.0</td>\n",
              "      <td>154.0</td>\n",
              "      <td>75</td>\n",
              "      <td>0</td>\n",
              "    </tr>\n",
              "    <tr>\n",
              "      <th>1</th>\n",
              "      <td>TRAIN_00001</td>\n",
              "      <td>2</td>\n",
              "      <td>1350</td>\n",
              "      <td>2021</td>\n",
              "      <td>51</td>\n",
              "      <td>375</td>\n",
              "      <td>0</td>\n",
              "      <td>2</td>\n",
              "      <td>19</td>\n",
              "      <td>0</td>\n",
              "      <td>...</td>\n",
              "      <td>2.0</td>\n",
              "      <td>4.0</td>\n",
              "      <td>6.0</td>\n",
              "      <td>216.0</td>\n",
              "      <td>1454.0</td>\n",
              "      <td>0</td>\n",
              "      <td>0.0</td>\n",
              "      <td>44.0</td>\n",
              "      <td>652</td>\n",
              "      <td>0</td>\n",
              "    </tr>\n",
              "    <tr>\n",
              "      <th>2</th>\n",
              "      <td>TRAIN_00002</td>\n",
              "      <td>2</td>\n",
              "      <td>2415</td>\n",
              "      <td>2015</td>\n",
              "      <td>2</td>\n",
              "      <td>200</td>\n",
              "      <td>0</td>\n",
              "      <td>110</td>\n",
              "      <td>1</td>\n",
              "      <td>1</td>\n",
              "      <td>...</td>\n",
              "      <td>0.0</td>\n",
              "      <td>3.0</td>\n",
              "      <td>39.0</td>\n",
              "      <td>11261.0</td>\n",
              "      <td>41081.0</td>\n",
              "      <td>0</td>\n",
              "      <td>0.0</td>\n",
              "      <td>72.6</td>\n",
              "      <td>412</td>\n",
              "      <td>1</td>\n",
              "    </tr>\n",
              "    <tr>\n",
              "      <th>3</th>\n",
              "      <td>TRAIN_00003</td>\n",
              "      <td>3</td>\n",
              "      <td>7389</td>\n",
              "      <td>2010</td>\n",
              "      <td>2</td>\n",
              "      <td>200</td>\n",
              "      <td>0</td>\n",
              "      <td>8</td>\n",
              "      <td>3</td>\n",
              "      <td>0</td>\n",
              "      <td>...</td>\n",
              "      <td>0.0</td>\n",
              "      <td>0.0</td>\n",
              "      <td>0.0</td>\n",
              "      <td>0.0</td>\n",
              "      <td>0.0</td>\n",
              "      <td>0</td>\n",
              "      <td>0.0</td>\n",
              "      <td>133.3</td>\n",
              "      <td>7</td>\n",
              "      <td>0</td>\n",
              "    </tr>\n",
              "    <tr>\n",
              "      <th>4</th>\n",
              "      <td>TRAIN_00004</td>\n",
              "      <td>3</td>\n",
              "      <td>3954</td>\n",
              "      <td>2015</td>\n",
              "      <td>4</td>\n",
              "      <td>200</td>\n",
              "      <td>0</td>\n",
              "      <td>1</td>\n",
              "      <td>157</td>\n",
              "      <td>0</td>\n",
              "      <td>...</td>\n",
              "      <td>0.0</td>\n",
              "      <td>0.0</td>\n",
              "      <td>0.0</td>\n",
              "      <td>0.0</td>\n",
              "      <td>0.0</td>\n",
              "      <td>0</td>\n",
              "      <td>0.0</td>\n",
              "      <td>133.1</td>\n",
              "      <td>128</td>\n",
              "      <td>0</td>\n",
              "    </tr>\n",
              "    <tr>\n",
              "      <th>...</th>\n",
              "      <td>...</td>\n",
              "      <td>...</td>\n",
              "      <td>...</td>\n",
              "      <td>...</td>\n",
              "      <td>...</td>\n",
              "      <td>...</td>\n",
              "      <td>...</td>\n",
              "      <td>...</td>\n",
              "      <td>...</td>\n",
              "      <td>...</td>\n",
              "      <td>...</td>\n",
              "      <td>...</td>\n",
              "      <td>...</td>\n",
              "      <td>...</td>\n",
              "      <td>...</td>\n",
              "      <td>...</td>\n",
              "      <td>...</td>\n",
              "      <td>...</td>\n",
              "      <td>...</td>\n",
              "      <td>...</td>\n",
              "      <td>...</td>\n",
              "    </tr>\n",
              "    <tr>\n",
              "      <th>14090</th>\n",
              "      <td>TRAIN_14090</td>\n",
              "      <td>3</td>\n",
              "      <td>1616</td>\n",
              "      <td>2014</td>\n",
              "      <td>8</td>\n",
              "      <td>200</td>\n",
              "      <td>0</td>\n",
              "      <td>2</td>\n",
              "      <td>201</td>\n",
              "      <td>1</td>\n",
              "      <td>...</td>\n",
              "      <td>0.0</td>\n",
              "      <td>0.0</td>\n",
              "      <td>0.0</td>\n",
              "      <td>0.0</td>\n",
              "      <td>0.0</td>\n",
              "      <td>0</td>\n",
              "      <td>0.0</td>\n",
              "      <td>135.4</td>\n",
              "      <td>16</td>\n",
              "      <td>0</td>\n",
              "    </tr>\n",
              "    <tr>\n",
              "      <th>14091</th>\n",
              "      <td>TRAIN_14091</td>\n",
              "      <td>1</td>\n",
              "      <td>2784</td>\n",
              "      <td>2013</td>\n",
              "      <td>2</td>\n",
              "      <td>200</td>\n",
              "      <td>0</td>\n",
              "      <td>3</td>\n",
              "      <td>85</td>\n",
              "      <td>0</td>\n",
              "      <td>...</td>\n",
              "      <td>0.0</td>\n",
              "      <td>0.0</td>\n",
              "      <td>0.0</td>\n",
              "      <td>0.0</td>\n",
              "      <td>0.0</td>\n",
              "      <td>0</td>\n",
              "      <td>14.5</td>\n",
              "      <td>117.5</td>\n",
              "      <td>1408</td>\n",
              "      <td>0</td>\n",
              "    </tr>\n",
              "    <tr>\n",
              "      <th>14092</th>\n",
              "      <td>TRAIN_14092</td>\n",
              "      <td>3</td>\n",
              "      <td>1788</td>\n",
              "      <td>2008</td>\n",
              "      <td>9</td>\n",
              "      <td>550</td>\n",
              "      <td>0</td>\n",
              "      <td>6</td>\n",
              "      <td>0</td>\n",
              "      <td>1</td>\n",
              "      <td>...</td>\n",
              "      <td>0.0</td>\n",
              "      <td>0.0</td>\n",
              "      <td>0.0</td>\n",
              "      <td>0.0</td>\n",
              "      <td>0.0</td>\n",
              "      <td>0</td>\n",
              "      <td>0.0</td>\n",
              "      <td>54.0</td>\n",
              "      <td>1301</td>\n",
              "      <td>0</td>\n",
              "    </tr>\n",
              "    <tr>\n",
              "      <th>14093</th>\n",
              "      <td>TRAIN_14093</td>\n",
              "      <td>2</td>\n",
              "      <td>2498</td>\n",
              "      <td>2009</td>\n",
              "      <td>19</td>\n",
              "      <td>550</td>\n",
              "      <td>0</td>\n",
              "      <td>2</td>\n",
              "      <td>4</td>\n",
              "      <td>0</td>\n",
              "      <td>...</td>\n",
              "      <td>7.0</td>\n",
              "      <td>8.0</td>\n",
              "      <td>100.0</td>\n",
              "      <td>1625.0</td>\n",
              "      <td>18890.0</td>\n",
              "      <td>0</td>\n",
              "      <td>0.0</td>\n",
              "      <td>44.3</td>\n",
              "      <td>652</td>\n",
              "      <td>0</td>\n",
              "    </tr>\n",
              "    <tr>\n",
              "      <th>14094</th>\n",
              "      <td>TRAIN_14094</td>\n",
              "      <td>2</td>\n",
              "      <td>1902</td>\n",
              "      <td>2012</td>\n",
              "      <td>15</td>\n",
              "      <td>200</td>\n",
              "      <td>0</td>\n",
              "      <td>0</td>\n",
              "      <td>77</td>\n",
              "      <td>0</td>\n",
              "      <td>...</td>\n",
              "      <td>1163.0</td>\n",
              "      <td>2565.0</td>\n",
              "      <td>11296.0</td>\n",
              "      <td>181016.0</td>\n",
              "      <td>325823.0</td>\n",
              "      <td>0</td>\n",
              "      <td>0.0</td>\n",
              "      <td>47.0</td>\n",
              "      <td>612</td>\n",
              "      <td>0</td>\n",
              "    </tr>\n",
              "  </tbody>\n",
              "</table>\n",
              "<p>14095 rows × 54 columns</p>\n",
              "</div>\n",
              "      <button class=\"colab-df-convert\" onclick=\"convertToInteractive('df-72ddf2d3-388d-411e-b0b2-35e9b43dee9c')\"\n",
              "              title=\"Convert this dataframe to an interactive table.\"\n",
              "              style=\"display:none;\">\n",
              "        \n",
              "  <svg xmlns=\"http://www.w3.org/2000/svg\" height=\"24px\"viewBox=\"0 0 24 24\"\n",
              "       width=\"24px\">\n",
              "    <path d=\"M0 0h24v24H0V0z\" fill=\"none\"/>\n",
              "    <path d=\"M18.56 5.44l.94 2.06.94-2.06 2.06-.94-2.06-.94-.94-2.06-.94 2.06-2.06.94zm-11 1L8.5 8.5l.94-2.06 2.06-.94-2.06-.94L8.5 2.5l-.94 2.06-2.06.94zm10 10l.94 2.06.94-2.06 2.06-.94-2.06-.94-.94-2.06-.94 2.06-2.06.94z\"/><path d=\"M17.41 7.96l-1.37-1.37c-.4-.4-.92-.59-1.43-.59-.52 0-1.04.2-1.43.59L10.3 9.45l-7.72 7.72c-.78.78-.78 2.05 0 2.83L4 21.41c.39.39.9.59 1.41.59.51 0 1.02-.2 1.41-.59l7.78-7.78 2.81-2.81c.8-.78.8-2.07 0-2.86zM5.41 20L4 18.59l7.72-7.72 1.47 1.35L5.41 20z\"/>\n",
              "  </svg>\n",
              "      </button>\n",
              "      \n",
              "  <style>\n",
              "    .colab-df-container {\n",
              "      display:flex;\n",
              "      flex-wrap:wrap;\n",
              "      gap: 12px;\n",
              "    }\n",
              "\n",
              "    .colab-df-convert {\n",
              "      background-color: #E8F0FE;\n",
              "      border: none;\n",
              "      border-radius: 50%;\n",
              "      cursor: pointer;\n",
              "      display: none;\n",
              "      fill: #1967D2;\n",
              "      height: 32px;\n",
              "      padding: 0 0 0 0;\n",
              "      width: 32px;\n",
              "    }\n",
              "\n",
              "    .colab-df-convert:hover {\n",
              "      background-color: #E2EBFA;\n",
              "      box-shadow: 0px 1px 2px rgba(60, 64, 67, 0.3), 0px 1px 3px 1px rgba(60, 64, 67, 0.15);\n",
              "      fill: #174EA6;\n",
              "    }\n",
              "\n",
              "    [theme=dark] .colab-df-convert {\n",
              "      background-color: #3B4455;\n",
              "      fill: #D2E3FC;\n",
              "    }\n",
              "\n",
              "    [theme=dark] .colab-df-convert:hover {\n",
              "      background-color: #434B5C;\n",
              "      box-shadow: 0px 1px 3px 1px rgba(0, 0, 0, 0.15);\n",
              "      filter: drop-shadow(0px 1px 2px rgba(0, 0, 0, 0.3));\n",
              "      fill: #FFFFFF;\n",
              "    }\n",
              "  </style>\n",
              "\n",
              "      <script>\n",
              "        const buttonEl =\n",
              "          document.querySelector('#df-72ddf2d3-388d-411e-b0b2-35e9b43dee9c button.colab-df-convert');\n",
              "        buttonEl.style.display =\n",
              "          google.colab.kernel.accessAllowed ? 'block' : 'none';\n",
              "\n",
              "        async function convertToInteractive(key) {\n",
              "          const element = document.querySelector('#df-72ddf2d3-388d-411e-b0b2-35e9b43dee9c');\n",
              "          const dataTable =\n",
              "            await google.colab.kernel.invokeFunction('convertToInteractive',\n",
              "                                                     [key], {});\n",
              "          if (!dataTable) return;\n",
              "\n",
              "          const docLinkHtml = 'Like what you see? Visit the ' +\n",
              "            '<a target=\"_blank\" href=https://colab.research.google.com/notebooks/data_table.ipynb>data table notebook</a>'\n",
              "            + ' to learn more about interactive tables.';\n",
              "          element.innerHTML = '';\n",
              "          dataTable['output_type'] = 'display_data';\n",
              "          await google.colab.output.renderOutput(dataTable, element);\n",
              "          const docLink = document.createElement('div');\n",
              "          docLink.innerHTML = docLinkHtml;\n",
              "          element.appendChild(docLink);\n",
              "        }\n",
              "      </script>\n",
              "    </div>\n",
              "  </div>\n",
              "  "
            ]
          },
          "metadata": {},
          "execution_count": 6
        }
      ]
    },
    {
      "cell_type": "code",
      "source": [
        "X.isnull().values.any()"
      ],
      "metadata": {
        "colab": {
          "base_uri": "https://localhost:8080/"
        },
        "id": "Z000qOZEzIY0",
        "outputId": "347c17ba-05be-4d5b-c381-fa13ba14c20d"
      },
      "execution_count": 7,
      "outputs": [
        {
          "output_type": "execute_result",
          "data": {
            "text/plain": [
              "False"
            ]
          },
          "metadata": {},
          "execution_count": 7
        }
      ]
    },
    {
      "cell_type": "code",
      "source": [
        "# from collections import Counter \n",
        "# from sklearn.datasets import fetch_mldata \n",
        "# from imblearn.under_sampling import CondensedNearestNeighbour \n",
        "# pima = fetch_mldata('diabetes_scale') \n",
        "# X, y = pima['data'], pima['target'] \n",
        "# print('Original dataset shape %s' % Counter(y)) \n",
        "# cnn = CondensedNearestNeighbour(random_state=42) \n",
        "# X_res, y_res = cnn.fit_resample(X, y) \n",
        "# print('Resampled dataset shape %s' % Counter(y_res)) "
      ],
      "metadata": {
        "id": "svCKURA00abp"
      },
      "execution_count": 8,
      "outputs": []
    },
    {
      "cell_type": "code",
      "source": [
        "#CondensedNearestNeighbour(random_state=0).fit_resample(X, y)"
      ],
      "metadata": {
        "id": "nwSVyhAYfA0c"
      },
      "execution_count": 9,
      "outputs": []
    },
    {
      "cell_type": "code",
      "execution_count": 10,
      "metadata": {
        "id": "au8NDLnPl_K8"
      },
      "outputs": [],
      "source": [
        "class Preprocessing:\n",
        "    def __init__(self, **kwargs):\n",
        "        \"\"\"\n",
        "        X: pd.DataFrame=X, y: pd.DataFrame=y, categorical_feature: str=\"COMPONENT_ARBITRARY\", \n",
        "        test_size:int=0.1, random_state_: int=42 ,dimensionality: str=\"pca\"\n",
        "        \"\"\"\n",
        "\n",
        "        # preprocessing for data set\n",
        "        self.X = kwargs[\"X\"]\n",
        "        self.y = kwargs[\"y\"]\n",
        "        self.categorical_feature = kwargs[\"categorical_feature\"]\n",
        "\n",
        "        # self.concat_df = pd.concat([X, y], axis=1) # -> sampling, grouping에서 사용\n",
        "        self.test_size = kwargs[\"test_size\"]\n",
        "\n",
        "        # preprocessing for learning model\n",
        "        self.learners_dict = {\n",
        "            'classification': {\n",
        "                'RF': RandomForestClassifier,\n",
        "                'XGB': XGBClassifier,\n",
        "                'LGBM': LGBMClassifier\n",
        "            },\n",
        "        \n",
        "            'regression': {\n",
        "                'RF': RandomForestRegressor,\n",
        "                'XGB': XGBRegressor,\n",
        "                'LGBM': LGBMRegressor\n",
        "            }\n",
        "        }\n",
        "\n",
        "        # preprocessing for sampling model\n",
        "        self.samplers_dict = {\n",
        "            \"under\": {\n",
        "                'RandomUnderSampler': RandomUnderSampler,\n",
        "                'TomekLinks': TomekLinks,\n",
        "                'CondensedNearestNeighbour': CondensedNearestNeighbour, \n",
        "                'OneSidedSelection': OneSidedSelection,\n",
        "                'EditedNearestNeighbours': EditedNearestNeighbours,\n",
        "                'NeighbourhoodCleaningRule': NeighbourhoodCleaningRule\n",
        "            },\n",
        "\n",
        "            \"over\": {\n",
        "                'RandomOverSampler': RandomOverSampler,\n",
        "                'ADASYN': ADASYN,\n",
        "                'NeighbourhoodCleaningRule': NeighbourhoodCleaningRule\n",
        "            },\n",
        "\n",
        "            \"hybrid\": {\n",
        "                'SMOTEENN': SMOTEENN,\n",
        "                'SMOTETomek': SMOTETomek\n",
        "            }\n",
        "        }\n",
        "\n",
        "        # preprocessing for dimensionality\n",
        "        self.dimensionality = kwargs[\"dimensionality\"]\n",
        "\n",
        "        # create new attrubutes for methods \n",
        "        learner = kwargs[\"learner\"]\n",
        "        sampler = kwargs[\"sampler\"]\n",
        "        self.my_learner = self.learners_dict[learner[0]][learner[1]]\n",
        "        self.my_sampler = self.samplers_dict[sampler[0]][sampler[1]]\n",
        "        self.random_state_ = kwargs[\"random_state_\"]\n",
        "\n",
        "    def sampling(self, X: pd.DataFrame=X, y: pd.DataFrame=y) -> tuple:\n",
        "        try: \n",
        "            sampler = self.my_sampler(random_state=self.random_state_)\n",
        "            X2, y2 = sampler.fit_resample(X, y)\n",
        "            print(f\"{sampler} completed resampling X and y\" )\n",
        "            return X2, y2\n",
        "        \n",
        "        except ValueError:\n",
        "            print(\"categorical value 넣지마세요!\")\n",
        "\n",
        "        except TypeError: \n",
        "            print(\"random_state 없는 샘플러\")\n",
        "            sampler = self.my_sampler()\n",
        "            X2, y2 = sampler.fit_resample(X, y)\n",
        "            print(f\"{sampler} completed resampling X and y\" )\n",
        "            return X2, y2\n",
        "\n",
        "    def grouping_df(self, X, y, y_column: str='Y_LABEL') -> dict: \n",
        "        \"\"\"\n",
        "        divide train_df to make each group df\n",
        "        return grouped df list \n",
        "        \"\"\"\n",
        "\n",
        "        # concat X2 and y2 to divide groups \n",
        "        categorical_feature = self.categorical_feature\n",
        "        print(categorical_feature)\n",
        "        concat_df = pd.concat([X,y], axis=1)\n",
        "        group_dic = {}\n",
        "\n",
        "        for criteria in sorted(concat_df[categorical_feature].unique()): \n",
        "            print(f\"dividing my df on {criteria}\")\n",
        "            temp_df = concat_df.loc[concat_df[categorical_feature] == criteria,].drop(columns=categorical_feature)\n",
        "\n",
        "            # make grouped X, y\n",
        "            X3 = temp_df.drop(columns=[y_column])\n",
        "            y3 = temp_df[y_column]\n",
        "            group_dic.update({criteria: (X3, y3)})\n",
        "        \n",
        "        return group_dic\n",
        "\n",
        "    def split_X_y_bundle(self, X_y_bundle: tuple or dict) -> dict: \n",
        "        \"\"\"\n",
        "        split train and validation data set\n",
        "        return X_train, X_val, y_train, y_val\n",
        "        \"\"\"\n",
        "\n",
        "        if type(X_y_bundle) == tuple: \n",
        "            (X, y) = X_y_bundle\n",
        "            X_train, X_val, y_train, y_val = train_test_split(X, y, test_size=self.test_size, random_state=self.random_state_)\n",
        "            return X_train, X_val, y_train, y_val\n",
        "\n",
        "        else: \n",
        "            split_dict = {}\n",
        "            for key, (X, y) in X_y_bundle.items():\n",
        "                (X_train, X_val, y_train, y_val) = train_test_split(X, y, test_size=self.test_size, random_state=self.random_state_)\n",
        "                split_dict.update({key : (X_train, X_val, y_train, y_val)})     \n",
        "            return split_dict\n",
        "\n",
        "    def feature_importance_for_groups(self, split_dict): # -> 메서드 가지고 오면 피처임포턴스 리턴하는 메서드\n",
        "        # nan 값 처리 후 사용 가능\n",
        "        classifier = self.my_learner()\n",
        "        acc_dict = {}\n",
        "        feature_importance_dict = {}\n",
        "\n",
        "        for criteria, (X_train, X_val, y_train, y_val) in split_dict.items(): \n",
        "            classifier.fit(X_train, y_train) # Random Forest 학습을 위해 parameter 채우기\n",
        "            pred = classifier.predict(X_val) # Random Forest 테스트를 위해 parameter 채우기\n",
        "            acc = f1_score(y_val, pred)  # f1_score 계산\n",
        "            acc_dict.update({criteria : acc})\n",
        "            print(\"f1_score : %.3f\" % acc)\n",
        "\n",
        "            importances = classifier.feature_importances_\n",
        "            ftr_importances = pd.Series(importances, index = X_train.columns).sort_values(ascending=False)\n",
        "            feature_importance_dict.update({criteria : ftr_importances})\n",
        "\n",
        "        return acc_dict, feature_importance_dict\n",
        "\n",
        "    def chose_drop_features(self, feature_importance_dict, threshold: int=None, draw=True): \n",
        "        \"\"\"\n",
        "        return list of all feature_importance for each group \n",
        "        \"\"\"\n",
        "\n",
        "        if draw == True:\n",
        "            for criteria, feature_importance in feature_importance_dict.items(): \n",
        "                plt.figure(figsize=(12, 6))\n",
        "                plt.title(f'{criteria} Feature Importances')\n",
        "                sns.barplot(x=feature_importance, y=feature_importance.index)\n",
        "                plt.show()\n",
        "\n",
        "        drop_target_list = []\n",
        "        for criteria, feature_importance in feature_importance_dict.items():\n",
        "            temp_df = feature_importance.reset_index()\n",
        "            temp_df.columns = [\"name\", \"value\"]\n",
        "\n",
        "            if threshold == None: \n",
        "                drop_target_list.extend(temp_df[temp_df.value == 0].name.to_list())\n",
        "\n",
        "            elif threshold != None:\n",
        "                drop_target_list.extend(temp_df[temp_df.value <= threshold].name.to_list())\n",
        "\n",
        "        return list(set(drop_target_list))\n",
        "\n",
        "    def print_report(self, split_dict) -> str: \n",
        "        sampler = self.sampler(self.random_state_)\n",
        "        classifier = self.laerners()\n",
        "        dimensionality = self.dimensionality\n",
        "\n",
        "        # sampling method, dimensionality, model\n",
        "        pipeline = Pipeline([('sampling_method', sampler), ('dimensionality', dimensionality), ('model', classifier)]) \n",
        "        \n",
        "        for criteria, (X_train, X_val, y_train, y_val) in split_dict.items(): \n",
        "            pipeline.fit(X_train, y_train) \n",
        "            y_hat = pipeline.predict(X_val)\n",
        "            print(f\"{dimensionality} 사용한 pipe line\")\n",
        "            print(classification_report(y_val, y_hat))\n"
      ]
    },
    {
      "cell_type": "code",
      "source": [
        "sampler_dic = {\n",
        "    \"under\": {\n",
        "        'RandomUnderSampler': RandomUnderSampler,\n",
        "        'TomekLinks': TomekLinks,\n",
        "         # 'CondensedNearestNeighbour': CondensedNearestNeighbour, \n",
        "        'OneSidedSelection': OneSidedSelection,\n",
        "        'EditedNearestNeighbours': EditedNearestNeighbours,\n",
        "        'NeighbourhoodCleaningRule': NeighbourhoodCleaningRule\n",
        "    },\n",
        "\n",
        "    \"over\": {\n",
        "        'RandomOverSampler': RandomOverSampler,\n",
        "        'ADASYN': ADASYN,\n",
        "        'NeighbourhoodCleaningRule': NeighbourhoodCleaningRule\n",
        "    },\n",
        "\n",
        "    \"hybrid\": {\n",
        "        'SMOTEENN': SMOTEENN,\n",
        "        'SMOTETomek': SMOTETomek\n",
        "    }\n",
        "}"
      ],
      "metadata": {
        "id": "TlqXjMjIg4kL"
      },
      "execution_count": 11,
      "outputs": []
    },
    {
      "cell_type": "code",
      "source": [
        "variable_dict = {\n",
        "    \"X\": X, \n",
        "    \"y\": y, \n",
        "    \"categorical_feature\": \"COMPONENT_ARBITRARY\", \n",
        "    \"test_size\": 0.1, \n",
        "    \"learner\": (\"classification\", \"XGB\"), \n",
        "    \"sampler\": (\"under\", \"RandomUnderSampler\"), \n",
        "    \"random_state_\": 42,\n",
        "    \"dimensionality\": \"pca\"\n",
        "}\n",
        "\n",
        "first_try = Preprocessing(**variable_dict)\n",
        "X = first_try.X\n",
        "y = first_try.y\n",
        "print()\n",
        "\n",
        "# 샘플링 그룹핑 스플릿\n",
        "X2, y2 = first_try.sampling(X, y)\n",
        "grouped_dic = first_try.grouping_df(X2, y2, y_column='Y_LABEL')\n",
        "split_X_y_bundle = first_try.split_X_y_bundle(grouped_dic)\n",
        "print()\n",
        "\n",
        "# 피처임포턴스 확인\n",
        "result_ = first_try.feature_importance_for_groups(split_X_y_bundle)\n",
        "features = result_[1]\n",
        "drop_target_list = first_try.chose_drop_features(features, draw=False)\n",
        "print()\n",
        "print(drop_target_list)\n",
        "print()"
      ],
      "metadata": {
        "colab": {
          "base_uri": "https://localhost:8080/"
        },
        "id": "aAiTcDl0lyoQ",
        "outputId": "1f067865-489d-47ff-a912-8fc6a83dba1f"
      },
      "execution_count": 19,
      "outputs": [
        {
          "output_type": "stream",
          "name": "stdout",
          "text": [
            "\n",
            "RandomUnderSampler(random_state=42) completed resampling X and y\n",
            "COMPONENT_ARBITRARY\n",
            "dividing my df on 1\n",
            "dividing my df on 2\n",
            "dividing my df on 3\n",
            "dividing my df on 4\n",
            "\n",
            "f1_score : 0.737\n",
            "f1_score : 0.667\n",
            "f1_score : 0.752\n",
            "f1_score : 0.250\n",
            "\n",
            "['FUEL', 'FSO4', 'ANONYMOUS_2', 'U50', 'NI', 'FNOX', 'CO', 'U20', 'FH2O', 'AG', 'H2O', 'U4', 'SB', 'FOXID', 'FTBN', 'LI', 'U100', 'FOPTIMETHGLY', 'U6', 'V', 'CR', 'BE', 'TI', 'U14', 'U25', 'NA', 'SOOTPERCENTAGE', 'MN', 'U75', 'V100', 'SN', 'PB', 'CD']\n",
            "\n"
          ]
        }
      ]
    },
    {
      "cell_type": "code",
      "source": [
        "# 데이터 준비\n",
        "for key, value in tqdm(sampler_dic.items(), desc=\"\\n첫 번째 반복문\"):\n",
        "    for name, function in tqdm(value.items(), desc=\"\\n두 번째 반복문\"):\n",
        "        variable_dict = {\n",
        "            \"X\": X, \n",
        "            \"y\": y, \n",
        "            \"categorical_feature\": \"COMPONENT_ARBITRARY\", \n",
        "            \"test_size\": 0.1, \n",
        "            \"learner\": (\"classification\", \"XGB\"), \n",
        "            \"sampler\": (key, name), \n",
        "            \"random_state_\": 42,\n",
        "            \"dimensionality\": \"pca\"\n",
        "        }\n",
        "\n",
        "        first_try = Preprocessing(**variable_dict)\n",
        "        X = first_try.X\n",
        "        y = first_try.y\n",
        "        print()\n",
        "\n",
        "        # 샘플링 그룹핑 스플릿\n",
        "        X2, y2 = first_try.sampling(X, y)\n",
        "        grouped_dic = first_try.grouping_df(X2, y2, y_column='Y_LABEL')\n",
        "        split_X_y_bundle = first_try.split_X_y_bundle(grouped_dic)\n",
        "        print()\n",
        "\n",
        "        # 피처임포턴스 확인\n",
        "        result_ = first_try.feature_importance_for_groups(split_X_y_bundle)\n",
        "        features = result_[1]\n",
        "        drop_target_list = first_try.chose_drop_features(features, draw=False)\n",
        "        print()\n",
        "        print(drop_target_list)\n",
        "        print()\n",
        "\n",
        "# 파이프라인 결과 확인\n",
        "# print(first_try.print_report(split_X_y_bundle))"
      ],
      "metadata": {
        "colab": {
          "base_uri": "https://localhost:8080/"
        },
        "id": "MBZOP11fgrsH",
        "outputId": "8dee2b6f-3e56-4f15-8c87-594a47ad3577"
      },
      "execution_count": 21,
      "outputs": [
        {
          "output_type": "stream",
          "name": "stderr",
          "text": [
            "\r\n",
            "첫 번째 반복문:   0%|          | 0/3 [00:00<?, ?it/s]\n",
            "\n",
            "두 번째 반복문:   0%|          | 0/5 [00:00<?, ?it/s]\u001b[A"
          ]
        },
        {
          "output_type": "stream",
          "name": "stdout",
          "text": [
            "\n",
            "RandomUnderSampler(random_state=42) completed resampling X and y\n",
            "COMPONENT_ARBITRARY\n",
            "dividing my df on 1\n",
            "dividing my df on 2\n",
            "dividing my df on 3\n",
            "dividing my df on 4\n",
            "\n",
            "f1_score : 0.737\n",
            "f1_score : 0.667\n"
          ]
        },
        {
          "output_type": "stream",
          "name": "stderr",
          "text": [
            "\n",
            "\n",
            "두 번째 반복문:  20%|██        | 1/5 [00:01<00:05,  1.40s/it]\u001b[A"
          ]
        },
        {
          "output_type": "stream",
          "name": "stdout",
          "text": [
            "f1_score : 0.752\n",
            "f1_score : 0.250\n",
            "\n",
            "['FUEL', 'FSO4', 'ANONYMOUS_2', 'U50', 'NI', 'FNOX', 'CO', 'U20', 'FH2O', 'AG', 'H2O', 'U4', 'SB', 'FOXID', 'FTBN', 'LI', 'U100', 'FOPTIMETHGLY', 'U6', 'V', 'CR', 'BE', 'TI', 'U14', 'U25', 'NA', 'SOOTPERCENTAGE', 'MN', 'U75', 'V100', 'SN', 'PB', 'CD']\n",
            "\n",
            "\n",
            "random_state 없는 샘플러\n",
            "TomekLinks() completed resampling X and y\n",
            "COMPONENT_ARBITRARY\n",
            "dividing my df on 1\n",
            "dividing my df on 2\n",
            "dividing my df on 3\n",
            "dividing my df on 4\n",
            "\n",
            "f1_score : 0.667\n",
            "f1_score : 0.667\n"
          ]
        },
        {
          "output_type": "stream",
          "name": "stderr",
          "text": [
            "\n",
            "\n",
            "두 번째 반복문:  40%|████      | 2/5 [00:06<00:10,  3.50s/it]\u001b[A"
          ]
        },
        {
          "output_type": "stream",
          "name": "stdout",
          "text": [
            "f1_score : 0.651\n",
            "f1_score : 0.000\n",
            "\n",
            "['MO', 'FUEL', 'FSO4', 'U50', 'NI', 'FNOX', 'CO', 'U20', 'FH2O', 'AG', 'H2O', 'U4', 'SB', 'FOXID', 'FTBN', 'LI', 'U100', 'FOPTIMETHGLY', 'U6', 'V', 'TI', 'BE', 'U14', 'U25', 'SOOTPERCENTAGE', 'MN', 'U75', 'V100', 'SN', 'PB', 'CD']\n",
            "\n",
            "\n",
            "OneSidedSelection(random_state=42) completed resampling X and y\n",
            "COMPONENT_ARBITRARY\n",
            "dividing my df on 1\n",
            "dividing my df on 2\n",
            "dividing my df on 3\n",
            "dividing my df on 4\n",
            "\n",
            "f1_score : 0.700\n",
            "f1_score : 0.743\n"
          ]
        },
        {
          "output_type": "stream",
          "name": "stderr",
          "text": [
            "\n",
            "\n",
            "두 번째 반복문:  60%|██████    | 3/5 [00:12<00:08,  4.48s/it]\u001b[A"
          ]
        },
        {
          "output_type": "stream",
          "name": "stdout",
          "text": [
            "f1_score : 0.721\n",
            "f1_score : 0.000\n",
            "\n",
            "['FUEL', 'FSO4', 'U50', 'NI', 'FNOX', 'CO', 'U20', 'FH2O', 'AG', 'H2O', 'U4', 'FOXID', 'FTBN', 'LI', 'U100', 'FOPTIMETHGLY', 'U6', 'V', 'CR', 'BE', 'TI', 'U14', 'U25', 'SOOTPERCENTAGE', 'MN', 'U75', 'V100', 'SN', 'PB', 'CD']\n",
            "\n",
            "\n",
            "random_state 없는 샘플러\n",
            "EditedNearestNeighbours() completed resampling X and y\n",
            "COMPONENT_ARBITRARY\n",
            "dividing my df on 1\n",
            "dividing my df on 2\n",
            "dividing my df on 3\n",
            "dividing my df on 4\n",
            "\n",
            "f1_score : 0.732\n",
            "f1_score : 0.667\n",
            "f1_score : 0.761\n"
          ]
        },
        {
          "output_type": "stream",
          "name": "stderr",
          "text": [
            "\n",
            "\n",
            "두 번째 반복문:  80%|████████  | 4/5 [00:18<00:05,  5.30s/it]\u001b[A"
          ]
        },
        {
          "output_type": "stream",
          "name": "stdout",
          "text": [
            "f1_score : 0.000\n",
            "\n",
            "['MO', 'FUEL', 'FSO4', 'U50', 'NI', 'FNOX', 'CO', 'U20', 'FH2O', 'AG', 'H2O', 'U4', 'FOXID', 'FTBN', 'LI', 'U100', 'FOPTIMETHGLY', 'U6', 'V', 'CR', 'BE', 'TI', 'U14', 'U25', 'SOOTPERCENTAGE', 'MN', 'U75', 'V100', 'SN', 'PB', 'CD']\n",
            "\n",
            "\n",
            "random_state 없는 샘플러\n",
            "NeighbourhoodCleaningRule() completed resampling X and y\n",
            "COMPONENT_ARBITRARY\n",
            "dividing my df on 1\n",
            "dividing my df on 2\n",
            "dividing my df on 3\n",
            "dividing my df on 4\n",
            "\n",
            "f1_score : 0.678\n",
            "f1_score : 0.690\n"
          ]
        },
        {
          "output_type": "stream",
          "name": "stderr",
          "text": [
            "\n",
            "\n",
            "두 번째 반복문: 100%|██████████| 5/5 [00:27<00:00,  6.71s/it]\u001b[A\n",
            "두 번째 반복문: 100%|██████████| 5/5 [00:27<00:00,  5.56s/it]\n",
            "\n",
            "첫 번째 반복문:  33%|███▎      | 1/3 [00:27<00:55, 27.82s/it]"
          ]
        },
        {
          "output_type": "stream",
          "name": "stdout",
          "text": [
            "f1_score : 0.667\n",
            "f1_score : 0.400\n",
            "\n",
            "['FUEL', 'FSO4', 'U50', 'NI', 'FNOX', 'CO', 'U20', 'FH2O', 'AG', 'H2O', 'U4', 'SB', 'FOXID', 'FTBN', 'LI', 'U100', 'FOPTIMETHGLY', 'U6', 'V', 'CR', 'BE', 'TI', 'U14', 'U25', 'SOOTPERCENTAGE', 'MN', 'V100', 'U75', 'SN', 'PB', 'CD']\n",
            "\n"
          ]
        },
        {
          "output_type": "stream",
          "name": "stderr",
          "text": [
            "\n",
            "\n",
            "두 번째 반복문:   0%|          | 0/3 [00:00<?, ?it/s]\u001b[A"
          ]
        },
        {
          "output_type": "stream",
          "name": "stdout",
          "text": [
            "\n",
            "RandomOverSampler(random_state=42) completed resampling X and y\n",
            "COMPONENT_ARBITRARY\n",
            "dividing my df on 1\n",
            "dividing my df on 2\n",
            "dividing my df on 3\n",
            "dividing my df on 4\n",
            "\n",
            "f1_score : 0.902\n",
            "f1_score : 0.939\n",
            "f1_score : 0.844\n"
          ]
        },
        {
          "output_type": "stream",
          "name": "stderr",
          "text": [
            "\n",
            "\n",
            "두 번째 반복문:  33%|███▎      | 1/3 [00:03<00:07,  3.82s/it]\u001b[A"
          ]
        },
        {
          "output_type": "stream",
          "name": "stdout",
          "text": [
            "f1_score : 0.964\n",
            "\n",
            "['MO', 'FUEL', 'FSO4', 'U50', 'NI', 'FNOX', 'CO', 'U20', 'FH2O', 'AG', 'H2O', 'U4', 'K', 'FOXID', 'FTBN', 'LI', 'U100', 'FOPTIMETHGLY', 'U6', 'V', 'TI', 'BE', 'U14', 'U25', 'SOOTPERCENTAGE', 'MN', 'U75', 'V100', 'SN', 'CD']\n",
            "\n",
            "\n",
            "ADASYN(random_state=42) completed resampling X and y\n",
            "COMPONENT_ARBITRARY\n",
            "dividing my df on 1\n",
            "dividing my df on 2\n",
            "dividing my df on 3\n",
            "dividing my df on 4\n",
            "\n",
            "f1_score : 0.957\n",
            "f1_score : 0.950\n"
          ]
        },
        {
          "output_type": "stream",
          "name": "stderr",
          "text": [
            "\n",
            "\n",
            "두 번째 반복문:  67%|██████▋   | 2/3 [00:08<00:04,  4.37s/it]\u001b[A"
          ]
        },
        {
          "output_type": "stream",
          "name": "stdout",
          "text": [
            "f1_score : 0.930\n",
            "f1_score : 0.560\n",
            "\n",
            "['FUEL', 'FSO4', 'U50', 'NI', 'SI', 'FNOX', 'CO', 'U20', 'FH2O', 'AG', 'H2O', 'U4', 'SB', 'FOXID', 'FTBN', 'LI', 'U100', 'FOPTIMETHGLY', 'U6', 'V', 'CR', 'BE', 'TI', 'U14', 'U25', 'MG', 'SOOTPERCENTAGE', 'MN', 'U75', 'V100', 'CD']\n",
            "\n",
            "\n",
            "random_state 없는 샘플러\n",
            "NeighbourhoodCleaningRule() completed resampling X and y\n",
            "COMPONENT_ARBITRARY\n",
            "dividing my df on 1\n",
            "dividing my df on 2\n",
            "dividing my df on 3\n",
            "dividing my df on 4\n",
            "\n",
            "f1_score : 0.678\n",
            "f1_score : 0.690\n"
          ]
        },
        {
          "output_type": "stream",
          "name": "stderr",
          "text": [
            "\n",
            "\n",
            "두 번째 반복문: 100%|██████████| 3/3 [00:15<00:00,  5.59s/it]\u001b[A\n",
            "두 번째 반복문: 100%|██████████| 3/3 [00:15<00:00,  5.21s/it]\n",
            "\n",
            "첫 번째 반복문:  67%|██████▋   | 2/3 [00:43<00:20, 20.66s/it]"
          ]
        },
        {
          "output_type": "stream",
          "name": "stdout",
          "text": [
            "f1_score : 0.667\n",
            "f1_score : 0.400\n",
            "\n",
            "['FUEL', 'FSO4', 'U50', 'NI', 'FNOX', 'CO', 'U20', 'FH2O', 'AG', 'H2O', 'U4', 'SB', 'FOXID', 'FTBN', 'LI', 'U100', 'FOPTIMETHGLY', 'U6', 'V', 'CR', 'BE', 'TI', 'U14', 'U25', 'SOOTPERCENTAGE', 'MN', 'V100', 'U75', 'SN', 'PB', 'CD']\n",
            "\n"
          ]
        },
        {
          "output_type": "stream",
          "name": "stderr",
          "text": [
            "\n",
            "\n",
            "두 번째 반복문:   0%|          | 0/2 [00:00<?, ?it/s]\u001b[A"
          ]
        },
        {
          "output_type": "stream",
          "name": "stdout",
          "text": [
            "\n",
            "SMOTEENN(random_state=42) completed resampling X and y\n",
            "COMPONENT_ARBITRARY\n",
            "dividing my df on 1\n",
            "dividing my df on 2\n",
            "dividing my df on 3\n",
            "dividing my df on 4\n",
            "\n",
            "f1_score : 0.966\n",
            "f1_score : 0.966\n"
          ]
        },
        {
          "output_type": "stream",
          "name": "stderr",
          "text": [
            "\n",
            "\n",
            "두 번째 반복문:  50%|█████     | 1/2 [00:18<00:18, 18.86s/it]\u001b[A"
          ]
        },
        {
          "output_type": "stream",
          "name": "stdout",
          "text": [
            "f1_score : 0.942\n",
            "f1_score : 0.848\n",
            "\n",
            "['MO', 'FUEL', 'FSO4', 'U50', 'NI', 'FNOX', 'CO', 'U20', 'FH2O', 'AG', 'H2O', 'U4', 'FOXID', 'FTBN', 'LI', 'U100', 'FOPTIMETHGLY', 'U6', 'V', 'CR', 'BE', 'TI', 'U14', 'U25', 'NA', 'SOOTPERCENTAGE', 'MN', 'U75', 'V100', 'SN', 'PB', 'CD']\n",
            "\n",
            "\n",
            "SMOTETomek(random_state=42) completed resampling X and y\n",
            "COMPONENT_ARBITRARY\n",
            "dividing my df on 1\n",
            "dividing my df on 2\n",
            "dividing my df on 3\n",
            "dividing my df on 4\n",
            "\n",
            "f1_score : 0.958\n",
            "f1_score : 0.954\n"
          ]
        },
        {
          "output_type": "stream",
          "name": "stderr",
          "text": [
            "\n",
            "\n",
            "두 번째 반복문: 100%|██████████| 2/2 [00:32<00:00, 15.99s/it]\u001b[A\n",
            "두 번째 반복문: 100%|██████████| 2/2 [00:32<00:00, 16.42s/it]\n",
            "\n",
            "첫 번째 반복문: 100%|██████████| 3/3 [01:16<00:00, 26.23s/it]\n",
            "첫 번째 반복문: 100%|██████████| 3/3 [01:16<00:00, 25.45s/it]"
          ]
        },
        {
          "output_type": "stream",
          "name": "stdout",
          "text": [
            "f1_score : 0.924\n",
            "f1_score : 0.759\n",
            "\n",
            "['FUEL', 'FSO4', 'U50', 'NI', 'FNOX', 'CO', 'U20', 'FH2O', 'AG', 'H2O', 'U4', 'FOXID', 'FTBN', 'LI', 'U100', 'FOPTIMETHGLY', 'U6', 'V', 'CR', 'BE', 'TI', 'U14', 'U25', 'SOOTPERCENTAGE', 'MN', 'U75', 'V100', 'CD']\n",
            "\n"
          ]
        },
        {
          "output_type": "stream",
          "name": "stderr",
          "text": [
            "\n"
          ]
        }
      ]
    },
    {
      "cell_type": "code",
      "source": [
        "# 피처 드랍\n",
        "X2 = X2.drop(columns=drop_target_list)\n",
        "print()\n",
        "\n",
        "# 데이터 준비\n",
        "sec_grouped_dic = first_try.grouping_df(X2, y2, y_column='Y_LABEL')\n",
        "sec_split_X_y_bundle = first_try.split_X_y_bundle(sec_grouped_dic)\n",
        "print()\n",
        "\n",
        "# 피처임포턴스 확인\n",
        "sec_result_ = first_try.feature_importance_for_groups(sec_split_X_y_bundle)\n",
        "sec_features = sec_result_[1]\n",
        "sec_drop_target_list = first_try.chose_drop_features(sec_features, draw=False)\n",
        "print()\n",
        "print(sec_drop_target_list)\n",
        "print()\n",
        "\n",
        "# 파이프라인 결과 확인\n",
        "#print(first_try.print_report(sec_split_X_y_bundle))"
      ],
      "metadata": {
        "colab": {
          "base_uri": "https://localhost:8080/"
        },
        "id": "TPyF4qrokQvI",
        "outputId": "05b46bcc-3333-40de-d332-ccd685cae527"
      },
      "execution_count": 14,
      "outputs": [
        {
          "output_type": "stream",
          "name": "stdout",
          "text": [
            "\n",
            "COMPONENT_ARBITRARY\n",
            "dividing my df on 1\n",
            "dividing my df on 2\n",
            "dividing my df on 3\n",
            "dividing my df on 4\n",
            "\n",
            "f1_score : 0.923\n",
            "f1_score : 0.944\n",
            "f1_score : 0.930\n",
            "f1_score : 0.759\n",
            "\n",
            "['PB']\n",
            "\n"
          ]
        }
      ]
    },
    {
      "cell_type": "code",
      "source": [
        "X2.columns.values"
      ],
      "metadata": {
        "colab": {
          "base_uri": "https://localhost:8080/"
        },
        "id": "NhNSYwAeyrKH",
        "outputId": "bd6abd17-27e6-4431-ef10-fdf6ed7d3ff5"
      },
      "execution_count": 15,
      "outputs": [
        {
          "output_type": "execute_result",
          "data": {
            "text/plain": [
              "array(['COMPONENT_ARBITRARY', 'ANONYMOUS_1', 'YEAR',\n",
              "       'SAMPLE_TRANSFER_DAY', 'ANONYMOUS_2', 'AL', 'B', 'BA', 'CA', 'CU',\n",
              "       'FE', 'K', 'MG', 'MO', 'NA', 'P', 'PB', 'PQINDEX', 'S', 'SB', 'SI',\n",
              "       'SN', 'V40', 'ZN'], dtype=object)"
            ]
          },
          "metadata": {},
          "execution_count": 15
        }
      ]
    },
    {
      "cell_type": "code",
      "source": [
        "test.columns.values"
      ],
      "metadata": {
        "colab": {
          "base_uri": "https://localhost:8080/"
        },
        "id": "pJZLfWLrbjXD",
        "outputId": "556f86f4-e7f1-45cc-e93b-aeb53c450417"
      },
      "execution_count": 16,
      "outputs": [
        {
          "output_type": "execute_result",
          "data": {
            "text/plain": [
              "array(['ID', 'COMPONENT_ARBITRARY', 'ANONYMOUS_1', 'YEAR', 'ANONYMOUS_2',\n",
              "       'AG', 'CO', 'CR', 'CU', 'FE', 'H2O', 'MN', 'MO', 'NI', 'PQINDEX',\n",
              "       'TI', 'V', 'V40', 'ZN'], dtype=object)"
            ]
          },
          "metadata": {},
          "execution_count": 16
        }
      ]
    },
    {
      "cell_type": "code",
      "source": [
        "drop_list = list(set(test.columns.values) - set(X2.columns.values))"
      ],
      "metadata": {
        "id": "xO1UpgwrzUKH"
      },
      "execution_count": 17,
      "outputs": []
    },
    {
      "cell_type": "code",
      "source": [
        "test = test.drop(columns=drop_list)"
      ],
      "metadata": {
        "id": "0P-fuV5tzv07"
      },
      "execution_count": 18,
      "outputs": []
    },
    {
      "cell_type": "code",
      "source": [],
      "metadata": {
        "id": "KNOvu4p9z7RL"
      },
      "execution_count": 18,
      "outputs": []
    }
  ],
  "metadata": {
    "colab": {
      "provenance": [],
      "authorship_tag": "ABX9TyN5SeEobIFOFE5at/YDO3qr",
      "include_colab_link": true
    },
    "kernelspec": {
      "display_name": "Python 3",
      "name": "python3"
    },
    "language_info": {
      "name": "python"
    }
  },
  "nbformat": 4,
  "nbformat_minor": 0
}